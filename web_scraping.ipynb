{
 "cells": [
  {
   "attachments": {},
   "cell_type": "markdown",
   "metadata": {},
   "source": [
    "### Web scraping tutorial (Scrapy)"
   ]
  },
  {
   "attachments": {},
   "cell_type": "markdown",
   "metadata": {},
   "source": [
    "#### Get started"
   ]
  },
  {
   "attachments": {},
   "cell_type": "markdown",
   "metadata": {},
   "source": [
    "Direct to the right directory (for project restore) by terminal.  \n",
    "Commands below:\n",
    "\n",
    "'''scrapy startproject PROJECT_NAME  \n",
    "'''cd PROJECTNAME  \n",
    "'''scrapy genspider SPIDER_NAME SPIDER_URL  \n",
    "'''scrapy list\n",
    "\n",
    "Open the .py file and get started!"
   ]
  },
  {
   "attachments": {},
   "cell_type": "markdown",
   "metadata": {},
   "source": [
    "#### Tags"
   ]
  },
  {
   "attachments": {},
   "cell_type": "markdown",
   "metadata": {},
   "source": [
    "&lt;div&gt;:    \n",
    "&nbsp;&nbsp;&nbsp;&nbsp;&nbsp;&nbsp;a division or a section  \n",
    "&lt;h1&gt;:  \n",
    "&nbsp;&nbsp;&nbsp;&nbsp;&nbsp;&nbsp;main title on a webpage  \n",
    "&lt;p&gt;:      \n",
    "&nbsp;&nbsp;&nbsp;&nbsp;&nbsp;&nbsp;a paragraph  \n",
    "&lt;a&gt;:      \n",
    "&nbsp;&nbsp;&nbsp;&nbsp;&nbsp;&nbsp;a hyperlink  \n",
    "\n"
   ]
  },
  {
   "attachments": {},
   "cell_type": "markdown",
   "metadata": {},
   "source": [
    "#### Check for errors"
   ]
  },
  {
   "cell_type": "code",
   "execution_count": 1,
   "metadata": {},
   "outputs": [
    {
     "name": "stdout",
     "output_type": "stream",
     "text": [
      "<h1>An Interesting Title</h1>\n",
      "It worked!\n"
     ]
    }
   ],
   "source": [
    "from urllib.request import urlopen \n",
    "from bs4 import BeautifulSoup\n",
    "from urllib.error import HTTPError \n",
    "from urllib.error import URLError\n",
    "\n",
    "html = urlopen('http://www.pythonscraping.com/pages/page1.html') \n",
    "bs = BeautifulSoup(html.read(), 'html.parser')\n",
    "print(bs.h1)\n",
    "\n",
    "try:\n",
    "    html = urlopen('http://www.pythonscraping.com/pages/page1.html') \n",
    "except HTTPError as e:\n",
    "    print('e')\n",
    "except URLError as e:\n",
    "    print('The server could not be found!')\n",
    "else:\n",
    "    print('It worked!')"
   ]
  },
  {
   "attachments": {},
   "cell_type": "markdown",
   "metadata": {},
   "source": [
    "##### Scrapy commands"
   ]
  },
  {
   "cell_type": "code",
   "execution_count": null,
   "metadata": {},
   "outputs": [],
   "source": [
    "# $ scrapy  \n",
    "# Scrapy 1.4.0 - no active project\n",
    "\n",
    "# Usage:  \n",
    "#   scrapy <command> [options] [args]\n",
    "\n",
    "# Available commands:  \n",
    "#   bench         Run quick benchmark test  \n",
    "#   fetch         Fetch a URL using the Scrapy downloader  \n",
    "#   genspider     Generate new spider using pre-defined templates  \n",
    "#   runspider     Run a self-contained spider (without creating a project)  \n",
    "#   settings      Get settings values  \n",
    "#   shell         Interactive scraping console  \n",
    "#   startproject  Create new project  \n",
    "#   version       Print Scrapy version  \n",
    "#   view          Open URL in browser, as seen by Scrapy  \n",
    "\n",
    "#   [ more ]      More commands available when run from project directory\n",
    "\n",
    "# Use \"scrapy <command> -h\" to see more info about a command"
   ]
  },
  {
   "cell_type": "markdown",
   "metadata": {},
   "source": []
  }
 ],
 "metadata": {
  "kernelspec": {
   "display_name": "base",
   "language": "python",
   "name": "python3"
  },
  "language_info": {
   "codemirror_mode": {
    "name": "ipython",
    "version": 3
   },
   "file_extension": ".py",
   "mimetype": "text/x-python",
   "name": "python",
   "nbconvert_exporter": "python",
   "pygments_lexer": "ipython3",
   "version": "3.9.13 (main, Aug 25 2022, 18:29:29) \n[Clang 12.0.0 ]"
  },
  "orig_nbformat": 4,
  "vscode": {
   "interpreter": {
    "hash": "274508df9cde7ecc2f982e5f4c4908670322f74137a8243468b9a800234371ff"
   }
  }
 },
 "nbformat": 4,
 "nbformat_minor": 2
}
