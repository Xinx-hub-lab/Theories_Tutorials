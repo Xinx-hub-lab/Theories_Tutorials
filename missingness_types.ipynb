{
 "cells": [
  {
   "attachments": {},
   "cell_type": "markdown",
   "metadata": {},
   "source": [
    "#### Missing completely at random (MCAR)\n"
   ]
  },
  {
   "attachments": {},
   "cell_type": "markdown",
   "metadata": {},
   "source": [
    "For all cases, the probability of missingness is the same. \n",
    "Missingness is highly independent, independent from any variables in the study, including itself. \n",
    "Reasons for missingness is random as well, external to the data being studied.\n",
    "\n",
    "EG: Printer error.\n"
   ]
  },
  {
   "attachments": {},
   "cell_type": "markdown",
   "metadata": {},
   "source": [
    "#### Missing at Random (MAR)"
   ]
  },
  {
   "attachments": {},
   "cell_type": "markdown",
   "metadata": {},
   "source": [
    "Missingness not random, caused by other variables in the dataset, where there is no missingness themselves. But the missingness does not have relations with the missing data variable.\n",
    "\n",
    "EG: If man are less likely to report weight, then if we control for gender, and gender is not having missing data, then the missingness of weight is now random."
   ]
  },
  {
   "attachments": {},
   "cell_type": "markdown",
   "metadata": {},
   "source": [
    "#### Missing Not at Random (MNAR)"
   ]
  },
  {
   "attachments": {},
   "cell_type": "markdown",
   "metadata": {},
   "source": [
    "The missingness of data is related to actual values that are missing. The missing data depends on information that are recorded. This information also predicts the missing data.\n",
    "\n",
    "EG: People with higher incomes are less likely to disclose their income on a survey. Here, the missing data on income is related to the value of the income itself."
   ]
  },
  {
   "cell_type": "markdown",
   "metadata": {},
   "source": []
  }
 ],
 "metadata": {
  "kernelspec": {
   "display_name": "Python 3",
   "language": "python",
   "name": "python3"
  },
  "language_info": {
   "name": "python",
   "version": "3.10.8 (v3.10.8:aaaf517424, Oct 11 2022, 10:14:40) [Clang 13.0.0 (clang-1300.0.29.30)]"
  },
  "orig_nbformat": 4,
  "vscode": {
   "interpreter": {
    "hash": "aee8b7b246df8f9039afb4144a1f6fd8d2ca17a180786b69acc140d282b71a49"
   }
  }
 },
 "nbformat": 4,
 "nbformat_minor": 2
}
