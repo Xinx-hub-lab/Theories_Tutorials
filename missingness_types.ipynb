{
 "cells": [
  {
   "attachments": {},
   "cell_type": "markdown",
   "metadata": {},
   "source": [
    "### Missingness Types\n",
    "\n",
    "#### Missing Completely at Random (MCAR)\n",
    "- **Definition**: For all cases, the probability of missingness is the same. Missingness is highly independent, independent from any variables in the study, including itself. Reasons for missingness are random and external to the data being studied.\n",
    "- *Example*: \n",
    "  - Printer error causing some survey responses to be lost.\n",
    "\n",
    "---\n",
    "\n",
    "#### Missing at Random (MAR)\n",
    "- **Definition**: Missingness is not random, but it is caused by other variables in the dataset that have no missingness themselves. However, the missingness does not relate to the missing data variable itself.\n",
    "- *Example*: \n",
    "  - Men are less likely to report weight. If we control for gender, and gender has no missing data, then the missingness of weight becomes random.\n",
    "\n",
    "---\n",
    "\n",
    "#### Missing Not at Random (MNAR)\n",
    "- **Definition**: The missingness of data is related to the actual values that are missing. The missing data depends on information that is recorded, and this information also predicts the missing data.\n",
    "- *Example*: \n",
    "  - People with higher incomes are less likely to disclose their income on a survey. Here, the missing data on income is related to the income value itself."
   ]
  },
  {
   "attachments": {},
   "cell_type": "markdown",
   "metadata": {},
   "source": [
    "### Strategies to Deal with Missingness\n",
    "\n",
    "#### Discard Entire Row and Column with NaNs\n",
    "- *Pros/Cons*: \n",
    "  - Potential loss of valuable data which could impact the dataset's representativeness and model accuracy.  \n",
    "---\n",
    "\n",
    "#### Univariate vs. Multivariate Imputation\n",
    "- **Univariate Imputation**:\n",
    "  - *Description*: Imputes values in the i-th feature dimension using only non-missing values in that feature dimension.\n",
    "  - *Example*: `SimpleImputer` in scikit-learn.\n",
    "- **Multivariate Imputation**:\n",
    "  - *Description*: Uses the entire set of available feature dimensions to estimate the missing values.\n",
    "  - *Example*: `IterativeImputer` in scikit-learn."
   ]
  },
  {
   "cell_type": "code",
   "execution_count": 2,
   "metadata": {},
   "outputs": [
    {
     "data": {
      "text/plain": [
       "\"\\ndf.dropna(subset = [''])\\n\""
      ]
     },
     "execution_count": 2,
     "metadata": {},
     "output_type": "execute_result"
    }
   ],
   "source": [
    "\"\"\"\n",
    "df.dropna(subset = [''])\n",
    "\"\"\""
   ]
  },
  {
   "cell_type": "code",
   "execution_count": null,
   "metadata": {},
   "outputs": [],
   "source": []
  }
 ],
 "metadata": {
  "kernelspec": {
   "display_name": "base",
   "language": "python",
   "name": "python3"
  },
  "language_info": {
   "codemirror_mode": {
    "name": "ipython",
    "version": 3
   },
   "file_extension": ".py",
   "mimetype": "text/x-python",
   "name": "python",
   "nbconvert_exporter": "python",
   "pygments_lexer": "ipython3",
   "version": "3.9.13"
  },
  "orig_nbformat": 4,
  "vscode": {
   "interpreter": {
    "hash": "274508df9cde7ecc2f982e5f4c4908670322f74137a8243468b9a800234371ff"
   }
  }
 },
 "nbformat": 4,
 "nbformat_minor": 2
}
